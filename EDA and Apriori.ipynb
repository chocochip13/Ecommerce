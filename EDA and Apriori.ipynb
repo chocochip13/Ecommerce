{
 "cells": [
  {
   "cell_type": "markdown",
   "metadata": {},
   "source": [
    "### Loading Libraries"
   ]
  },
  {
   "cell_type": "code",
   "execution_count": 1,
   "metadata": {},
   "outputs": [],
   "source": [
    "import pandas as pd\n",
    "import numpy as np\n",
    "import matplotlib.pyplot as plt\n",
    "import seaborn as sns\n",
    "import gc\n",
    "import datetime\n",
    "import math\n",
    "\n",
    "%matplotlib inline\n",
    "color = sns.color_palette()\n",
    "from mlxtend.frequent_patterns import apriori\n",
    "from mlxtend.frequent_patterns import association_rules"
   ]
  },
  {
   "cell_type": "markdown",
   "metadata": {},
   "source": [
    "### Set Seed"
   ]
  },
  {
   "cell_type": "code",
   "execution_count": 2,
   "metadata": {},
   "outputs": [],
   "source": [
    "np.random.seed(13)"
   ]
  },
  {
   "cell_type": "markdown",
   "metadata": {},
   "source": [
    "### Load Data"
   ]
  },
  {
   "cell_type": "code",
   "execution_count": 3,
   "metadata": {},
   "outputs": [],
   "source": [
    "df = pd.read_csv(\"transaction_data.csv\", encoding = 'ISO-8859-1')"
   ]
  },
  {
   "cell_type": "code",
   "execution_count": 4,
   "metadata": {},
   "outputs": [
    {
     "data": {
      "text/plain": [
       "(1083818, 8)"
      ]
     },
     "execution_count": 4,
     "metadata": {},
     "output_type": "execute_result"
    }
   ],
   "source": [
    "df.shape"
   ]
  },
  {
   "cell_type": "code",
   "execution_count": 5,
   "metadata": {},
   "outputs": [
    {
     "data": {
      "text/html": [
       "<div>\n",
       "<style scoped>\n",
       "    .dataframe tbody tr th:only-of-type {\n",
       "        vertical-align: middle;\n",
       "    }\n",
       "\n",
       "    .dataframe tbody tr th {\n",
       "        vertical-align: top;\n",
       "    }\n",
       "\n",
       "    .dataframe thead th {\n",
       "        text-align: right;\n",
       "    }\n",
       "</style>\n",
       "<table border=\"1\" class=\"dataframe\">\n",
       "  <thead>\n",
       "    <tr style=\"text-align: right;\">\n",
       "      <th></th>\n",
       "      <th>UserId</th>\n",
       "      <th>TransactionId</th>\n",
       "      <th>TransactionTime</th>\n",
       "      <th>ItemCode</th>\n",
       "      <th>ItemDescription</th>\n",
       "      <th>NumberOfItemsPurchased</th>\n",
       "      <th>CostPerItem</th>\n",
       "      <th>Country</th>\n",
       "    </tr>\n",
       "  </thead>\n",
       "  <tbody>\n",
       "    <tr>\n",
       "      <td>0</td>\n",
       "      <td>278166</td>\n",
       "      <td>6355745</td>\n",
       "      <td>Sat Feb 02 12:50:00 IST 2019</td>\n",
       "      <td>465549</td>\n",
       "      <td>FAMILY ALBUM WHITE PICTURE FRAME</td>\n",
       "      <td>6</td>\n",
       "      <td>11.73</td>\n",
       "      <td>United Kingdom</td>\n",
       "    </tr>\n",
       "    <tr>\n",
       "      <td>1</td>\n",
       "      <td>337701</td>\n",
       "      <td>6283376</td>\n",
       "      <td>Wed Dec 26 09:06:00 IST 2018</td>\n",
       "      <td>482370</td>\n",
       "      <td>LONDON BUS COFFEE MUG</td>\n",
       "      <td>3</td>\n",
       "      <td>3.52</td>\n",
       "      <td>United Kingdom</td>\n",
       "    </tr>\n",
       "    <tr>\n",
       "      <td>2</td>\n",
       "      <td>267099</td>\n",
       "      <td>6385599</td>\n",
       "      <td>Fri Feb 15 09:45:00 IST 2019</td>\n",
       "      <td>490728</td>\n",
       "      <td>SET 12 COLOUR PENCILS DOLLY GIRL</td>\n",
       "      <td>72</td>\n",
       "      <td>0.90</td>\n",
       "      <td>France</td>\n",
       "    </tr>\n",
       "    <tr>\n",
       "      <td>3</td>\n",
       "      <td>380478</td>\n",
       "      <td>6044973</td>\n",
       "      <td>Fri Jun 22 07:14:00 IST 2018</td>\n",
       "      <td>459186</td>\n",
       "      <td>UNION JACK FLAG LUGGAGE TAG</td>\n",
       "      <td>3</td>\n",
       "      <td>1.73</td>\n",
       "      <td>United Kingdom</td>\n",
       "    </tr>\n",
       "    <tr>\n",
       "      <td>4</td>\n",
       "      <td>-1</td>\n",
       "      <td>6143225</td>\n",
       "      <td>Mon Sep 10 11:58:00 IST 2018</td>\n",
       "      <td>1733592</td>\n",
       "      <td>WASHROOM METAL SIGN</td>\n",
       "      <td>3</td>\n",
       "      <td>3.40</td>\n",
       "      <td>United Kingdom</td>\n",
       "    </tr>\n",
       "  </tbody>\n",
       "</table>\n",
       "</div>"
      ],
      "text/plain": [
       "   UserId  TransactionId               TransactionTime  ItemCode  \\\n",
       "0  278166        6355745  Sat Feb 02 12:50:00 IST 2019    465549   \n",
       "1  337701        6283376  Wed Dec 26 09:06:00 IST 2018    482370   \n",
       "2  267099        6385599  Fri Feb 15 09:45:00 IST 2019    490728   \n",
       "3  380478        6044973  Fri Jun 22 07:14:00 IST 2018    459186   \n",
       "4      -1        6143225  Mon Sep 10 11:58:00 IST 2018   1733592   \n",
       "\n",
       "                     ItemDescription  NumberOfItemsPurchased  CostPerItem  \\\n",
       "0   FAMILY ALBUM WHITE PICTURE FRAME                       6        11.73   \n",
       "1              LONDON BUS COFFEE MUG                       3         3.52   \n",
       "2  SET 12 COLOUR PENCILS DOLLY GIRL                       72         0.90   \n",
       "3        UNION JACK FLAG LUGGAGE TAG                       3         1.73   \n",
       "4                WASHROOM METAL SIGN                       3         3.40   \n",
       "\n",
       "          Country  \n",
       "0  United Kingdom  \n",
       "1  United Kingdom  \n",
       "2          France  \n",
       "3  United Kingdom  \n",
       "4  United Kingdom  "
      ]
     },
     "execution_count": 5,
     "metadata": {},
     "output_type": "execute_result"
    }
   ],
   "source": [
    "df.head()"
   ]
  },
  {
   "cell_type": "code",
   "execution_count": 6,
   "metadata": {
    "scrolled": true
   },
   "outputs": [
    {
     "data": {
      "text/html": [
       "<div>\n",
       "<style scoped>\n",
       "    .dataframe tbody tr th:only-of-type {\n",
       "        vertical-align: middle;\n",
       "    }\n",
       "\n",
       "    .dataframe tbody tr th {\n",
       "        vertical-align: top;\n",
       "    }\n",
       "\n",
       "    .dataframe thead th {\n",
       "        text-align: right;\n",
       "    }\n",
       "</style>\n",
       "<table border=\"1\" class=\"dataframe\">\n",
       "  <thead>\n",
       "    <tr style=\"text-align: right;\">\n",
       "      <th></th>\n",
       "      <th>UserId</th>\n",
       "      <th>TransactionId</th>\n",
       "      <th>ItemCode</th>\n",
       "      <th>NumberOfItemsPurchased</th>\n",
       "      <th>CostPerItem</th>\n",
       "    </tr>\n",
       "  </thead>\n",
       "  <tbody>\n",
       "    <tr>\n",
       "      <td>count</td>\n",
       "      <td>1083818</td>\n",
       "      <td>1083818</td>\n",
       "      <td>1083818</td>\n",
       "      <td>1083818</td>\n",
       "      <td>1083818</td>\n",
       "    </tr>\n",
       "    <tr>\n",
       "      <td>mean</td>\n",
       "      <td>241016</td>\n",
       "      <td>6159416</td>\n",
       "      <td>658268</td>\n",
       "      <td>28</td>\n",
       "      <td>9</td>\n",
       "    </tr>\n",
       "    <tr>\n",
       "      <td>std</td>\n",
       "      <td>142336</td>\n",
       "      <td>147634</td>\n",
       "      <td>452631</td>\n",
       "      <td>654</td>\n",
       "      <td>2308</td>\n",
       "    </tr>\n",
       "    <tr>\n",
       "      <td>min</td>\n",
       "      <td>-1</td>\n",
       "      <td>5900015</td>\n",
       "      <td>-1</td>\n",
       "      <td>-242985</td>\n",
       "      <td>-15265</td>\n",
       "    </tr>\n",
       "    <tr>\n",
       "      <td>25%</td>\n",
       "      <td>259392</td>\n",
       "      <td>6026856</td>\n",
       "      <td>460908</td>\n",
       "      <td>3</td>\n",
       "      <td>1</td>\n",
       "    </tr>\n",
       "    <tr>\n",
       "      <td>50%</td>\n",
       "      <td>302022</td>\n",
       "      <td>6166611</td>\n",
       "      <td>475293</td>\n",
       "      <td>9</td>\n",
       "      <td>2</td>\n",
       "    </tr>\n",
       "    <tr>\n",
       "      <td>75%</td>\n",
       "      <td>341355</td>\n",
       "      <td>6289569</td>\n",
       "      <td>488943</td>\n",
       "      <td>30</td>\n",
       "      <td>5</td>\n",
       "    </tr>\n",
       "    <tr>\n",
       "      <td>max</td>\n",
       "      <td>384027</td>\n",
       "      <td>6397457</td>\n",
       "      <td>1894494</td>\n",
       "      <td>242985</td>\n",
       "      <td>1696285</td>\n",
       "    </tr>\n",
       "  </tbody>\n",
       "</table>\n",
       "</div>"
      ],
      "text/plain": [
       "        UserId  TransactionId  ItemCode  NumberOfItemsPurchased  CostPerItem\n",
       "count  1083818        1083818   1083818                 1083818      1083818\n",
       "mean    241016        6159416    658268                      28            9\n",
       "std     142336         147634    452631                     654         2308\n",
       "min         -1        5900015        -1                 -242985       -15265\n",
       "25%     259392        6026856    460908                       3            1\n",
       "50%     302022        6166611    475293                       9            2\n",
       "75%     341355        6289569    488943                      30            5\n",
       "max     384027        6397457   1894494                  242985      1696285"
      ]
     },
     "execution_count": 6,
     "metadata": {},
     "output_type": "execute_result"
    }
   ],
   "source": [
    "#pd.options.display.float_format = \"{:.0f}\".format\n",
    "df.describe().astype('int')\n"
   ]
  },
  {
   "cell_type": "code",
   "execution_count": 7,
   "metadata": {},
   "outputs": [
    {
     "name": "stdout",
     "output_type": "stream",
     "text": [
      "547246\n",
      "\u001b[1mInference:\u001b[0mAround half the datapoints are duplicates\n"
     ]
    }
   ],
   "source": [
    "class color:\n",
    "   PURPLE = '\\033[95m'\n",
    "   CYAN = '\\033[96m'\n",
    "   DARKCYAN = '\\033[36m'\n",
    "   BLUE = '\\033[94m'\n",
    "   GREEN = '\\033[92m'\n",
    "   YELLOW = '\\033[93m'\n",
    "   RED = '\\033[91m'\n",
    "   BOLD = '\\033[1m'\n",
    "   UNDERLINE = '\\033[4m'\n",
    "   END = '\\033[0m'\n",
    "\n",
    "\n",
    "#Check duplicates\n",
    "print(df.duplicated().sum())\n",
    "df.drop_duplicates(inplace = True)\n",
    "print(color.BOLD + 'Inference:' + color.END + \"Around half the datapoints are duplicates\")\n"
   ]
  },
  {
   "cell_type": "code",
   "execution_count": 8,
   "metadata": {},
   "outputs": [
    {
     "data": {
      "text/plain": [
       "(536572, 8)"
      ]
     },
     "execution_count": 8,
     "metadata": {},
     "output_type": "execute_result"
    }
   ],
   "source": [
    "df.shape"
   ]
  },
  {
   "cell_type": "code",
   "execution_count": 9,
   "metadata": {},
   "outputs": [
    {
     "name": "stdout",
     "output_type": "stream",
     "text": [
      "UserId                    536572\n",
      "TransactionId             536572\n",
      "TransactionTime           536572\n",
      "ItemCode                  536572\n",
      "ItemDescription           535118\n",
      "NumberOfItemsPurchased    536572\n",
      "CostPerItem               536572\n",
      "Country                   536572\n",
      "dtype: int64\n"
     ]
    }
   ],
   "source": [
    "print(df.count())\n"
   ]
  },
  {
   "cell_type": "code",
   "execution_count": 10,
   "metadata": {},
   "outputs": [
    {
     "name": "stdout",
     "output_type": "stream",
     "text": [
      "ItemDescription           1454\n",
      "Country                      0\n",
      "CostPerItem                  0\n",
      "NumberOfItemsPurchased       0\n",
      "ItemCode                     0\n",
      "TransactionTime              0\n",
      "TransactionId                0\n",
      "UserId                       0\n",
      "dtype: int64\n",
      "\u001b[1m\n",
      "Inference:\u001b[0mNo mandatory entries are missing\n"
     ]
    }
   ],
   "source": [
    "print(df.isnull().sum().sort_values(ascending=False))\n",
    "print(color.BOLD + '\\nInference:' + color.END + \"No mandatory entries are missing\")"
   ]
  },
  {
   "cell_type": "code",
   "execution_count": 11,
   "metadata": {},
   "outputs": [
    {
     "name": "stdout",
     "output_type": "stream",
     "text": [
      "<class 'pandas.core.frame.DataFrame'>\n",
      "Int64Index: 536572 entries, 0 to 1081501\n",
      "Data columns (total 8 columns):\n",
      "UserId                    536572 non-null int64\n",
      "TransactionId             536572 non-null int64\n",
      "TransactionTime           536572 non-null object\n",
      "ItemCode                  536572 non-null int64\n",
      "ItemDescription           535118 non-null object\n",
      "NumberOfItemsPurchased    536572 non-null int64\n",
      "CostPerItem               536572 non-null float64\n",
      "Country                   536572 non-null object\n",
      "dtypes: float64(1), int64(4), object(3)\n",
      "memory usage: 36.8+ MB\n"
     ]
    }
   ],
   "source": [
    "df.info()"
   ]
  },
  {
   "cell_type": "code",
   "execution_count": 12,
   "metadata": {},
   "outputs": [],
   "source": [
    "#Converting to timestamp\n",
    "df['TransactionTime'] = pd.to_datetime(df['TransactionTime'])"
   ]
  },
  {
   "cell_type": "code",
   "execution_count": 13,
   "metadata": {},
   "outputs": [
    {
     "data": {
      "text/html": [
       "<div>\n",
       "<style scoped>\n",
       "    .dataframe tbody tr th:only-of-type {\n",
       "        vertical-align: middle;\n",
       "    }\n",
       "\n",
       "    .dataframe tbody tr th {\n",
       "        vertical-align: top;\n",
       "    }\n",
       "\n",
       "    .dataframe thead th {\n",
       "        text-align: right;\n",
       "    }\n",
       "</style>\n",
       "<table border=\"1\" class=\"dataframe\">\n",
       "  <thead>\n",
       "    <tr style=\"text-align: right;\">\n",
       "      <th></th>\n",
       "      <th>UserId</th>\n",
       "      <th>TransactionId</th>\n",
       "      <th>ItemCode</th>\n",
       "      <th>NumberOfItemsPurchased</th>\n",
       "      <th>CostPerItem</th>\n",
       "    </tr>\n",
       "  </thead>\n",
       "  <tbody>\n",
       "    <tr>\n",
       "      <td>count</td>\n",
       "      <td>536572.000000</td>\n",
       "      <td>5.365720e+05</td>\n",
       "      <td>5.365720e+05</td>\n",
       "      <td>536572.000000</td>\n",
       "      <td>5.365720e+05</td>\n",
       "    </tr>\n",
       "    <tr>\n",
       "      <td>mean</td>\n",
       "      <td>240163.453561</td>\n",
       "      <td>6.159156e+06</td>\n",
       "      <td>6.583921e+05</td>\n",
       "      <td>28.862127</td>\n",
       "      <td>9.560211e+00</td>\n",
       "    </tr>\n",
       "    <tr>\n",
       "      <td>std</td>\n",
       "      <td>142690.785461</td>\n",
       "      <td>1.475017e+05</td>\n",
       "      <td>4.528156e+05</td>\n",
       "      <td>657.432645</td>\n",
       "      <td>2.319590e+03</td>\n",
       "    </tr>\n",
       "    <tr>\n",
       "      <td>min</td>\n",
       "      <td>-1.000000</td>\n",
       "      <td>5.900015e+06</td>\n",
       "      <td>-1.000000e+00</td>\n",
       "      <td>-242985.000000</td>\n",
       "      <td>-1.526564e+04</td>\n",
       "    </tr>\n",
       "    <tr>\n",
       "      <td>25%</td>\n",
       "      <td>-1.000000</td>\n",
       "      <td>6.026856e+06</td>\n",
       "      <td>4.609080e+05</td>\n",
       "      <td>3.000000</td>\n",
       "      <td>1.730000e+00</td>\n",
       "    </tr>\n",
       "    <tr>\n",
       "      <td>50%</td>\n",
       "      <td>301098.000000</td>\n",
       "      <td>6.166276e+06</td>\n",
       "      <td>4.752930e+05</td>\n",
       "      <td>9.000000</td>\n",
       "      <td>2.880000e+00</td>\n",
       "    </tr>\n",
       "    <tr>\n",
       "      <td>75%</td>\n",
       "      <td>341061.000000</td>\n",
       "      <td>6.288876e+06</td>\n",
       "      <td>4.889430e+05</td>\n",
       "      <td>30.000000</td>\n",
       "      <td>5.700000e+00</td>\n",
       "    </tr>\n",
       "    <tr>\n",
       "      <td>max</td>\n",
       "      <td>384027.000000</td>\n",
       "      <td>6.397457e+06</td>\n",
       "      <td>1.894494e+06</td>\n",
       "      <td>242985.000000</td>\n",
       "      <td>1.696285e+06</td>\n",
       "    </tr>\n",
       "  </tbody>\n",
       "</table>\n",
       "</div>"
      ],
      "text/plain": [
       "              UserId  TransactionId      ItemCode  NumberOfItemsPurchased  \\\n",
       "count  536572.000000   5.365720e+05  5.365720e+05           536572.000000   \n",
       "mean   240163.453561   6.159156e+06  6.583921e+05               28.862127   \n",
       "std    142690.785461   1.475017e+05  4.528156e+05              657.432645   \n",
       "min        -1.000000   5.900015e+06 -1.000000e+00          -242985.000000   \n",
       "25%        -1.000000   6.026856e+06  4.609080e+05                3.000000   \n",
       "50%    301098.000000   6.166276e+06  4.752930e+05                9.000000   \n",
       "75%    341061.000000   6.288876e+06  4.889430e+05               30.000000   \n",
       "max    384027.000000   6.397457e+06  1.894494e+06           242985.000000   \n",
       "\n",
       "        CostPerItem  \n",
       "count  5.365720e+05  \n",
       "mean   9.560211e+00  \n",
       "std    2.319590e+03  \n",
       "min   -1.526564e+04  \n",
       "25%    1.730000e+00  \n",
       "50%    2.880000e+00  \n",
       "75%    5.700000e+00  \n",
       "max    1.696285e+06  "
      ]
     },
     "execution_count": 13,
     "metadata": {},
     "output_type": "execute_result"
    }
   ],
   "source": [
    "df.describe()"
   ]
  },
  {
   "cell_type": "code",
   "execution_count": 14,
   "metadata": {},
   "outputs": [
    {
     "name": "stdout",
     "output_type": "stream",
     "text": [
      "    UserId  TransactionId           TransactionTime  ItemCode  \\\n",
      "4       -1        6143225 2018-09-10 11:58:00+05:30   1733592   \n",
      "7       -1        6143225 2018-09-10 11:58:00+05:30    447867   \n",
      "13      -1        6058140 2018-07-02 07:33:00+05:30    435225   \n",
      "17      -1        6288843 2018-12-30 12:58:00+05:30    489594   \n",
      "23      -1        6388019 2019-02-16 13:24:00+05:30    490329   \n",
      "\n",
      "                 ItemDescription  NumberOfItemsPurchased  CostPerItem  \\\n",
      "4            WASHROOM METAL SIGN                       3         3.40   \n",
      "7            SKULLS WRITING SET                      120         1.15   \n",
      "13       LUNCH BAG RED RETROSPOT                      60         6.85   \n",
      "17  VINTAGE CHRISTMAS TABLECLOTH                       3        34.45   \n",
      "23   ROLL WRAP VINTAGE CHRISTMAS                      30         3.40   \n",
      "\n",
      "           Country  \n",
      "4   United Kingdom  \n",
      "7   United Kingdom  \n",
      "13  United Kingdom  \n",
      "17  United Kingdom  \n",
      "23  United Kingdom  \n",
      "\u001b[1m\n",
      "Inference:\u001b[0mSeems like a legitimate purchase but as a guest user\n"
     ]
    }
   ],
   "source": [
    "#Negative values in UserID\n",
    "print(df[df['UserId']<0].head())\n",
    "\n",
    "print(color.BOLD + '\\nInference:' + color.END + 'Seems like a legitimate purchase but as a guest user') "
   ]
  },
  {
   "cell_type": "code",
   "execution_count": 15,
   "metadata": {},
   "outputs": [
    {
     "data": {
      "text/html": [
       "<div>\n",
       "<style scoped>\n",
       "    .dataframe tbody tr th:only-of-type {\n",
       "        vertical-align: middle;\n",
       "    }\n",
       "\n",
       "    .dataframe tbody tr th {\n",
       "        vertical-align: top;\n",
       "    }\n",
       "\n",
       "    .dataframe thead th {\n",
       "        text-align: right;\n",
       "    }\n",
       "</style>\n",
       "<table border=\"1\" class=\"dataframe\">\n",
       "  <thead>\n",
       "    <tr style=\"text-align: right;\">\n",
       "      <th></th>\n",
       "      <th>UserId</th>\n",
       "      <th>TransactionId</th>\n",
       "      <th>ItemCode</th>\n",
       "      <th>NumberOfItemsPurchased</th>\n",
       "      <th>CostPerItem</th>\n",
       "    </tr>\n",
       "  </thead>\n",
       "  <tbody>\n",
       "    <tr>\n",
       "      <td>count</td>\n",
       "      <td>525984.000000</td>\n",
       "      <td>5.259840e+05</td>\n",
       "      <td>5.259840e+05</td>\n",
       "      <td>525984.000000</td>\n",
       "      <td>5.259840e+05</td>\n",
       "    </tr>\n",
       "    <tr>\n",
       "      <td>mean</td>\n",
       "      <td>239688.751838</td>\n",
       "      <td>6.159424e+06</td>\n",
       "      <td>6.585093e+05</td>\n",
       "      <td>32.195074</td>\n",
       "      <td>8.631731e+00</td>\n",
       "    </tr>\n",
       "    <tr>\n",
       "      <td>std</td>\n",
       "      <td>143060.715592</td>\n",
       "      <td>1.476061e+05</td>\n",
       "      <td>4.521016e+05</td>\n",
       "      <td>472.806841</td>\n",
       "      <td>2.339427e+03</td>\n",
       "    </tr>\n",
       "    <tr>\n",
       "      <td>min</td>\n",
       "      <td>-1.000000</td>\n",
       "      <td>5.900015e+06</td>\n",
       "      <td>-1.000000e+00</td>\n",
       "      <td>3.000000</td>\n",
       "      <td>0.000000e+00</td>\n",
       "    </tr>\n",
       "    <tr>\n",
       "      <td>25%</td>\n",
       "      <td>-1.000000</td>\n",
       "      <td>6.026867e+06</td>\n",
       "      <td>4.609290e+05</td>\n",
       "      <td>3.000000</td>\n",
       "      <td>1.730000e+00</td>\n",
       "    </tr>\n",
       "    <tr>\n",
       "      <td>50%</td>\n",
       "      <td>301014.000000</td>\n",
       "      <td>6.166622e+06</td>\n",
       "      <td>4.752720e+05</td>\n",
       "      <td>12.000000</td>\n",
       "      <td>2.880000e+00</td>\n",
       "    </tr>\n",
       "    <tr>\n",
       "      <td>75%</td>\n",
       "      <td>341082.000000</td>\n",
       "      <td>6.289228e+06</td>\n",
       "      <td>4.889640e+05</td>\n",
       "      <td>33.000000</td>\n",
       "      <td>5.700000e+00</td>\n",
       "    </tr>\n",
       "    <tr>\n",
       "      <td>max</td>\n",
       "      <td>384027.000000</td>\n",
       "      <td>6.397457e+06</td>\n",
       "      <td>1.894494e+06</td>\n",
       "      <td>242985.000000</td>\n",
       "      <td>1.696285e+06</td>\n",
       "    </tr>\n",
       "  </tbody>\n",
       "</table>\n",
       "</div>"
      ],
      "text/plain": [
       "              UserId  TransactionId      ItemCode  NumberOfItemsPurchased  \\\n",
       "count  525984.000000   5.259840e+05  5.259840e+05           525984.000000   \n",
       "mean   239688.751838   6.159424e+06  6.585093e+05               32.195074   \n",
       "std    143060.715592   1.476061e+05  4.521016e+05              472.806841   \n",
       "min        -1.000000   5.900015e+06 -1.000000e+00                3.000000   \n",
       "25%        -1.000000   6.026867e+06  4.609290e+05                3.000000   \n",
       "50%    301014.000000   6.166622e+06  4.752720e+05               12.000000   \n",
       "75%    341082.000000   6.289228e+06  4.889640e+05               33.000000   \n",
       "max    384027.000000   6.397457e+06  1.894494e+06           242985.000000   \n",
       "\n",
       "        CostPerItem  \n",
       "count  5.259840e+05  \n",
       "mean   8.631731e+00  \n",
       "std    2.339427e+03  \n",
       "min    0.000000e+00  \n",
       "25%    1.730000e+00  \n",
       "50%    2.880000e+00  \n",
       "75%    5.700000e+00  \n",
       "max    1.696285e+06  "
      ]
     },
     "execution_count": 15,
     "metadata": {},
     "output_type": "execute_result"
    }
   ],
   "source": [
    "#Negative values in NumberOfItemsPurchased\n",
    "df = df[df.NumberOfItemsPurchased > 0]\n",
    "#Negative values in CostPerItem\n",
    "df = df[df.CostPerItem >= 0]  #Include Zero for freebies\n",
    "df.describe()"
   ]
  },
  {
   "cell_type": "code",
   "execution_count": 16,
   "metadata": {},
   "outputs": [
    {
     "name": "stdout",
     "output_type": "stream",
     "text": [
      "\u001b[1m\n",
      "Inference:\u001b[0mOutliers in Number of Items purchases\n"
     ]
    },
    {
     "data": {
      "image/png": "[encoded data removed]",
      "text/plain": [
       "<Figure size 864x360 with 1 Axes>"
      ]
     },
     "metadata": {
      "needs_background": "light"
     },
     "output_type": "display_data"
    }
   ],
   "source": [
    "# Plot Quantity\n",
    "plt.figure(constrained_layout=True, figsize=(12, 5))\n",
    "sns.boxplot(df['NumberOfItemsPurchased'])\n",
    "\n",
    "print(color.BOLD + '\\nInference:' + color.END + 'Outliers in Number of Items purchases') \n",
    "# remove outliers for Quantity\n",
    "#df = df[(df['Quantity'] < 15000) & (df['Quantity'] > -15000)]"
   ]
  },
  {
   "cell_type": "code",
   "execution_count": 17,
   "metadata": {},
   "outputs": [
    {
     "data": {
      "text/plain": [
       "<matplotlib.axes._subplots.AxesSubplot at 0x1a196e54d0>"
      ]
     },
     "execution_count": 17,
     "metadata": {},
     "output_type": "execute_result"
    },
    {
     "data": {
      "image/png": "[encoded data removed]",
      "text/plain": [
       "<Figure size 864x360 with 1 Axes>"
      ]
     },
     "metadata": {
      "needs_background": "light"
     },
     "output_type": "display_data"
    }
   ],
   "source": [
    "# remove outliers for Quantity\n",
    "df = df[(df['NumberOfItemsPurchased'] < 8000)]\n",
    "plt.figure(constrained_layout=True, figsize=(12, 5))\n",
    "sns.boxplot(df['NumberOfItemsPurchased'])"
   ]
  },
  {
   "cell_type": "code",
   "execution_count": 18,
   "metadata": {},
   "outputs": [
    {
     "data": {
      "text/plain": [
       "<matplotlib.axes._subplots.AxesSubplot at 0x1a19cd6650>"
      ]
     },
     "execution_count": 18,
     "metadata": {},
     "output_type": "execute_result"
    },
    {
     "data": {
      "image/png": "[encoded data removed]",
      "text/plain": [
       "<Figure size 864x360 with 1 Axes>"
      ]
     },
     "metadata": {
      "needs_background": "light"
     },
     "output_type": "display_data"
    }
   ],
   "source": [
    "#Check for outliers in Cost Per Item purchased\n",
    "plt.figure(constrained_layout=True, figsize=(12, 5))\n",
    "sns.boxplot(df['CostPerItem'])\n"
   ]
  },
  {
   "cell_type": "code",
   "execution_count": 19,
   "metadata": {},
   "outputs": [
    {
     "data": {
      "text/plain": [
       "<matplotlib.axes._subplots.AxesSubplot at 0x1a1a13d710>"
      ]
     },
     "execution_count": 19,
     "metadata": {},
     "output_type": "execute_result"
    },
    {
     "data": {
      "image/png": "[encoded data removed]",
      "text/plain": [
       "<Figure size 864x360 with 1 Axes>"
      ]
     },
     "metadata": {
      "needs_background": "light"
     },
     "output_type": "display_data"
    }
   ],
   "source": [
    "#Removing the Outlier from Cost per item\n",
    "df = df[(df['CostPerItem'] < 25000)]\n",
    "plt.figure(constrained_layout=True, figsize=(12, 5))\n",
    "sns.boxplot(df['CostPerItem'])\n"
   ]
  },
  {
   "cell_type": "code",
   "execution_count": 20,
   "metadata": {},
   "outputs": [],
   "source": [
    "#Adding total amount spent by a person\n",
    "df['Amount'] = df['NumberOfItemsPurchased'] * df['CostPerItem']"
   ]
  },
  {
   "cell_type": "code",
   "execution_count": 21,
   "metadata": {},
   "outputs": [],
   "source": [
    "#Adding Month, Day, Hour, Week as separate columns\n",
    "df.insert(loc=4, column='Month', value=df.TransactionTime.dt.month)\n",
    "# +1 to make Monday=1.....until Sunday=7 Weekends come together\n",
    "df.insert(loc=5, column='Day', value=(df.TransactionTime.dt.dayofweek)+1)\n",
    "df.insert(loc=6, column='Hour', value=df.TransactionTime.dt.hour)\n",
    "df.insert(loc=7, column='Week', value=((df.TransactionTime.dt.day)//7)+1)"
   ]
  },
  {
   "cell_type": "markdown",
   "metadata": {},
   "source": [
    "# EDA"
   ]
  },
  {
   "cell_type": "markdown",
   "metadata": {},
   "source": [
    "### Countrywise Analysis"
   ]
  },
  {
   "cell_type": "code",
   "execution_count": 22,
   "metadata": {},
   "outputs": [
    {
     "name": "stderr",
     "output_type": "stream",
     "text": [
      "/opt/anaconda3/lib/python3.7/site-packages/ipykernel_launcher.py:4: FutureWarning: `Series.plot()` should not be called with positional arguments, only keyword arguments. The order of positional arguments will change in the future. Use `Series.plot(kind='barh')` instead of `Series.plot('barh',)`.\n",
      "  after removing the cwd from sys.path.\n"
     ]
    },
    {
     "data": {
      "image/png": "[encoded data removed]",
      "text/plain": [
       "<Figure size 1440x720 with 1 Axes>"
      ]
     },
     "metadata": {
      "needs_background": "light"
     },
     "output_type": "display_data"
    },
    {
     "name": "stdout",
     "output_type": "stream",
     "text": [
      "\u001b[1mInference:\u001b[0mThe store has more branches in UK and probably HQ at UK\n"
     ]
    }
   ],
   "source": [
    "group_country_orders = df.groupby('Country')['TransactionId'].count().sort_values()\n",
    "\n",
    "plt.subplots(figsize=(20,10))\n",
    "group_country_orders.plot('barh', fontsize=12)\n",
    "plt.xlabel('Number of Orders', fontsize=12)\n",
    "plt.ylabel('Country', fontsize=12)\n",
    "plt.title('Number of Orders for different Countries', fontsize=25)\n",
    "plt.show()\n",
    "\n",
    "print(color.BOLD + 'Inference:' + color.END + \"The store has more branches in UK and probably HQ at UK\")\n"
   ]
  },
  {
   "cell_type": "code",
   "execution_count": 23,
   "metadata": {},
   "outputs": [
    {
     "name": "stderr",
     "output_type": "stream",
     "text": [
      "/opt/anaconda3/lib/python3.7/site-packages/ipykernel_launcher.py:4: FutureWarning: `Series.plot()` should not be called with positional arguments, only keyword arguments. The order of positional arguments will change in the future. Use `Series.plot(kind='barh')` instead of `Series.plot('barh',)`.\n",
      "  after removing the cwd from sys.path.\n"
     ]
    },
    {
     "data": {
      "image/png": "[encoded data removed]",
      "text/plain": [
       "<Figure size 1440x720 with 1 Axes>"
      ]
     },
     "metadata": {
      "needs_background": "light"
     },
     "output_type": "display_data"
    }
   ],
   "source": [
    "#Plot unique customers without UK\n",
    "del group_country_orders['United Kingdom']\n",
    "plt.subplots(figsize=(20,10))\n",
    "group_country_orders.plot('barh', fontsize=12)\n",
    "plt.xlabel('Number of Orders', fontsize=12)\n",
    "plt.ylabel('Country', fontsize=12)\n",
    "plt.title('Number of Orders for different Countries except UK', fontsize=25)\n",
    "plt.show()"
   ]
  },
  {
   "cell_type": "code",
   "execution_count": 24,
   "metadata": {},
   "outputs": [
    {
     "name": "stderr",
     "output_type": "stream",
     "text": [
      "/opt/anaconda3/lib/python3.7/site-packages/ipykernel_launcher.py:6: FutureWarning: `Series.plot()` should not be called with positional arguments, only keyword arguments. The order of positional arguments will change in the future. Use `Series.plot(kind='barh')` instead of `Series.plot('barh',)`.\n",
      "  \n"
     ]
    },
    {
     "data": {
      "image/png": "[encoded data removed]",
      "text/plain": [
       "<Figure size 1440x720 with 1 Axes>"
      ]
     },
     "metadata": {
      "needs_background": "light"
     },
     "output_type": "display_data"
    }
   ],
   "source": [
    "#Since UK dominated a lot in this section lets remove it to see the data comparing other countries\n",
    "#Amount spent by countries without UK\n",
    "group_country_Amount = df.groupby('Country')['Amount'].count().sort_values()\n",
    "del group_country_Amount['United Kingdom']\n",
    "plt.subplots(figsize=(20,10))\n",
    "group_country_Amount.plot('barh', fontsize=12)\n",
    "plt.xlabel('Revenue', fontsize=12)\n",
    "plt.ylabel('Country', fontsize=12)\n",
    "plt.title('Revenue in each country except UK', fontsize=25)\n",
    "plt.show()\n",
    "\n",
    "#print(color.BOLD + 'Inference:' + color.END + \"The store has more branches in UK and probably HQ at UK\")\n"
   ]
  },
  {
   "cell_type": "markdown",
   "metadata": {},
   "source": [
    "### Monthwise Analysis"
   ]
  },
  {
   "cell_type": "code",
   "execution_count": 25,
   "metadata": {},
   "outputs": [
    {
     "data": {
      "text/plain": [
       "[1]     2590\n",
       "[2]     3394\n",
       "[3]      759\n",
       "[4]     1193\n",
       "[5]     1306\n",
       "[6]     1597\n",
       "[7]     1601\n",
       "[8]     1567\n",
       "[9]     1496\n",
       "[10]    1497\n",
       "[11]    1514\n",
       "[12]    2200\n",
       "Name: Month, dtype: int64"
      ]
     },
     "execution_count": 25,
     "metadata": {},
     "output_type": "execute_result"
    }
   ],
   "source": [
    "group_month_orders = df.groupby('TransactionId')['Month'].unique().value_counts().sort_index()\n",
    "group_month_orders"
   ]
  },
  {
   "cell_type": "code",
   "execution_count": 26,
   "metadata": {},
   "outputs": [
    {
     "name": "stderr",
     "output_type": "stream",
     "text": [
      "/opt/anaconda3/lib/python3.7/site-packages/ipykernel_launcher.py:1: FutureWarning: `Series.plot()` should not be called with positional arguments, only keyword arguments. The order of positional arguments will change in the future. Use `Series.plot(kind='bar')` instead of `Series.plot('bar',)`.\n",
      "  \"\"\"Entry point for launching an IPython kernel.\n"
     ]
    },
    {
     "data": {
      "image/png": "[encoded data removed]",
      "text/plain": [
       "<Figure size 1080x576 with 1 Axes>"
      ]
     },
     "metadata": {
      "needs_background": "light"
     },
     "output_type": "display_data"
    }
   ],
   "source": [
    "group_month_orders = df.groupby('TransactionId')['Month'].unique().value_counts().sort_index().plot('bar',figsize=(15,8))\n",
    "group_month_orders.set_xlabel('Month',fontsize=15)\n",
    "group_month_orders.set_ylabel('Number of Orders',fontsize=15)\n",
    "group_month_orders.set_title('Number of orders for different Months',fontsize=20)\n",
    "group_month_orders.set_xticklabels(('Jan','Feb','Mar','Apr','May','Jun','July','Aug','Sep','Oct','Nov','Dec'), rotation='horizontal', fontsize=13)\n",
    "plt.show()"
   ]
  },
  {
   "cell_type": "code",
   "execution_count": 27,
   "metadata": {},
   "outputs": [
    {
     "name": "stdout",
     "output_type": "stream",
     "text": [
      "<class 'pandas.core.frame.DataFrame'>\n",
      "Int64Index: 12 entries, 1 to 12\n",
      "Data columns (total 1 columns):\n",
      "sum    12 non-null float64\n",
      "dtypes: float64(1)\n",
      "memory usage: 192.0 bytes\n"
     ]
    }
   ],
   "source": [
    "\n",
    "group_month_revenue = df.groupby('Month')['Amount'].agg(['sum']).sort_index()\n",
    "group_month_revenue.info()"
   ]
  },
  {
   "cell_type": "code",
   "execution_count": 28,
   "metadata": {
    "scrolled": true
   },
   "outputs": [
    {
     "data": {
      "text/plain": [
       "Text(0, 0.5, 'Revenue')"
      ]
     },
     "execution_count": 28,
     "metadata": {},
     "output_type": "execute_result"
    },
    {
     "data": {
      "image/png": "[encoded data removed]",
      "text/plain": [
       "<Figure size 1080x432 with 1 Axes>"
      ]
     },
     "metadata": {
      "needs_background": "light"
     },
     "output_type": "display_data"
    }
   ],
   "source": [
    "group_month_revenue = df.groupby(['Month'])['Amount'].agg(['sum'])\n",
    "plt.subplots(figsize=(15, 6))\n",
    "\n",
    "sns.barplot(x=group_month_revenue.index, y=group_month_revenue['sum']).set_title(\"Total Revenue over a year\")\n",
    "plt.ylabel('Revenue')\n",
    "\n"
   ]
  },
  {
   "cell_type": "markdown",
   "metadata": {},
   "source": [
    "### Weekdays"
   ]
  },
  {
   "cell_type": "code",
   "execution_count": 29,
   "metadata": {},
   "outputs": [
    {
     "name": "stdout",
     "output_type": "stream",
     "text": [
      "[1]    3862\n",
      "[2]    4406\n",
      "[3]    3288\n",
      "[5]    2292\n",
      "[6]    3237\n",
      "[7]    3629\n",
      "Name: Day, dtype: int64\n",
      "\u001b[1m\n",
      "Inference:\u001b[0m Thursdays: Holiday?\n"
     ]
    }
   ],
   "source": [
    "group_day_orders = df.groupby('TransactionId')['Day'].unique().value_counts().sort_index()\n",
    "print(group_day_orders)\n",
    "print(color.BOLD + '\\nInference:' + color.END + \" Thursdays: Holiday?\")\n"
   ]
  },
  {
   "cell_type": "code",
   "execution_count": 30,
   "metadata": {},
   "outputs": [
    {
     "name": "stderr",
     "output_type": "stream",
     "text": [
      "/opt/anaconda3/lib/python3.7/site-packages/ipykernel_launcher.py:1: FutureWarning: `Series.plot()` should not be called with positional arguments, only keyword arguments. The order of positional arguments will change in the future. Use `Series.plot(kind='bar')` instead of `Series.plot('bar',)`.\n",
      "  \"\"\"Entry point for launching an IPython kernel.\n"
     ]
    },
    {
     "data": {
      "image/png": "[encoded data removed]",
      "text/plain": [
       "<Figure size 1080x360 with 1 Axes>"
      ]
     },
     "metadata": {
      "needs_background": "light"
     },
     "output_type": "display_data"
    }
   ],
   "source": [
    "group_day_orders = df.groupby('TransactionId')['Day'].unique().value_counts().sort_index().plot('bar',figsize=(15,5))\n",
    "group_day_orders.set_xlabel('Month',fontsize=15)\n",
    "group_day_orders.set_ylabel('Number of Orders',fontsize=15)\n",
    "group_day_orders.set_title('Number of orders for different Weekdays',fontsize=20)\n",
    "group_day_orders.set_xticklabels(('Mon','Tue','Wed','Fri','Sat','Sun'), rotation='horizontal', fontsize=15)\n",
    "plt.show()"
   ]
  },
  {
   "cell_type": "code",
   "execution_count": 31,
   "metadata": {},
   "outputs": [
    {
     "data": {
      "text/plain": [
       "Text(0, 0.5, 'Revenue')"
      ]
     },
     "execution_count": 31,
     "metadata": {},
     "output_type": "execute_result"
    },
    {
     "data": {
      "image/png": "[encoded data removed]",
      "text/plain": [
       "<Figure size 1080x360 with 1 Axes>"
      ]
     },
     "metadata": {
      "needs_background": "light"
     },
     "output_type": "display_data"
    }
   ],
   "source": [
    "group_day_revenue = df.groupby(['Day'])['Amount'].agg(['sum'])\n",
    "plt.subplots(figsize=(15,5))\n",
    "\n",
    "sns.barplot(x=group_day_revenue.index, y=group_day_revenue['sum']).set_title(\"Total Revenue over a year\")\n",
    "plt.ylabel('Revenue')\n"
   ]
  },
  {
   "cell_type": "markdown",
   "metadata": {},
   "source": [
    "### Week of a Month"
   ]
  },
  {
   "cell_type": "code",
   "execution_count": 32,
   "metadata": {},
   "outputs": [
    {
     "name": "stdout",
     "output_type": "stream",
     "text": [
      "[1]    3957\n",
      "[2]    4414\n",
      "[3]    5277\n",
      "[4]    4663\n",
      "[5]    2403\n",
      "Name: Week, dtype: int64\n"
     ]
    }
   ],
   "source": [
    "group_week_orders = df.groupby('TransactionId')['Week'].unique().value_counts().sort_index()\n",
    "print(group_week_orders)\n"
   ]
  },
  {
   "cell_type": "code",
   "execution_count": 33,
   "metadata": {},
   "outputs": [
    {
     "name": "stderr",
     "output_type": "stream",
     "text": [
      "/opt/anaconda3/lib/python3.7/site-packages/ipykernel_launcher.py:1: FutureWarning: `Series.plot()` should not be called with positional arguments, only keyword arguments. The order of positional arguments will change in the future. Use `Series.plot(kind='bar')` instead of `Series.plot('bar',)`.\n",
      "  \"\"\"Entry point for launching an IPython kernel.\n"
     ]
    },
    {
     "data": {
      "image/png": "[encoded data removed]",
      "text/plain": [
       "<Figure size 1080x360 with 1 Axes>"
      ]
     },
     "metadata": {
      "needs_background": "light"
     },
     "output_type": "display_data"
    }
   ],
   "source": [
    "group_week_orders = df.groupby('TransactionId')['Week'].unique().value_counts().sort_index().plot('bar',figsize=(15,5))\n",
    "group_week_orders.set_xlabel('Month',fontsize=15)\n",
    "group_week_orders.set_ylabel('Number of Orders',fontsize=15)\n",
    "group_week_orders.set_title('Number of orders for different Week of Month',fontsize=20)\n",
    "group_week_orders.set_xticklabels(range(1,6), rotation='horizontal', fontsize=15)\n",
    "#5th Week is the last 2 or 3 days of the month\n",
    "plt.show()"
   ]
  },
  {
   "cell_type": "code",
   "execution_count": 34,
   "metadata": {},
   "outputs": [
    {
     "data": {
      "text/plain": [
       "Text(0, 0.5, 'Revenue')"
      ]
     },
     "execution_count": 34,
     "metadata": {},
     "output_type": "execute_result"
    },
    {
     "data": {
      "image/png": "[encoded data removed]",
      "text/plain": [
       "<Figure size 1080x360 with 1 Axes>"
      ]
     },
     "metadata": {
      "needs_background": "light"
     },
     "output_type": "display_data"
    }
   ],
   "source": [
    "group_week_revenue = df.groupby(['Week'])['Amount'].agg(['sum'])\n",
    "plt.subplots(figsize=(15,5))\n",
    "\n",
    "sns.barplot(x=group_week_revenue.index, y=group_week_revenue['sum']).set_title(\"Total Revenue over a year\")\n",
    "plt.ylabel('Revenue')\n"
   ]
  },
  {
   "cell_type": "markdown",
   "metadata": {},
   "source": [
    "### Hourwise analysis"
   ]
  },
  {
   "cell_type": "code",
   "execution_count": 35,
   "metadata": {},
   "outputs": [
    {
     "name": "stdout",
     "output_type": "stream",
     "text": [
      "[2]        1\n",
      "[3]       29\n",
      "[4]      568\n",
      "[5]     1537\n",
      "[6]     2427\n",
      "[7]     2471\n",
      "[8]     3321\n",
      "[9]     2818\n",
      "[10]    2554\n",
      "[11]    2472\n",
      "[12]    1405\n",
      "[13]     737\n",
      "[14]     209\n",
      "[15]     146\n",
      "[16]      18\n",
      "Name: Hour, dtype: int64\n"
     ]
    }
   ],
   "source": [
    "group_hour_orders = df.groupby('TransactionId')['Hour'].unique().value_counts().iloc[:-1].sort_index()\n",
    "print(group_hour_orders)\n"
   ]
  },
  {
   "cell_type": "code",
   "execution_count": 36,
   "metadata": {},
   "outputs": [
    {
     "name": "stderr",
     "output_type": "stream",
     "text": [
      "/opt/anaconda3/lib/python3.7/site-packages/ipykernel_launcher.py:1: FutureWarning: `Series.plot()` should not be called with positional arguments, only keyword arguments. The order of positional arguments will change in the future. Use `Series.plot(kind='bar')` instead of `Series.plot('bar',)`.\n",
      "  \"\"\"Entry point for launching an IPython kernel.\n"
     ]
    },
    {
     "data": {
      "image/png": "[encoded data removed]",
      "text/plain": [
       "<Figure size 1080x360 with 1 Axes>"
      ]
     },
     "metadata": {
      "needs_background": "light"
     },
     "output_type": "display_data"
    }
   ],
   "source": [
    "group_hour_orders = df.groupby('TransactionId')['Hour'].unique().value_counts().iloc[:-1].sort_index().plot('bar',figsize=(15,5))\n",
    "group_hour_orders.set_xlabel('Month',fontsize=15)\n",
    "group_hour_orders.set_ylabel('Number of Orders',fontsize=15)\n",
    "group_hour_orders.set_title('Number of orders for different Week of Month',fontsize=20)\n",
    "group_hour_orders.set_xticklabels(range(2,17), rotation='horizontal', fontsize=15)\n",
    "plt.show()"
   ]
  },
  {
   "cell_type": "code",
   "execution_count": 37,
   "metadata": {},
   "outputs": [
    {
     "data": {
      "text/plain": [
       "count    525966\n",
       "mean          5\n",
       "std          49\n",
       "min           0\n",
       "25%           1\n",
       "50%           2\n",
       "75%           5\n",
       "max       18687\n",
       "Name: CostPerItem, dtype: int64"
      ]
     },
     "execution_count": 37,
     "metadata": {},
     "output_type": "execute_result"
    }
   ],
   "source": [
    "df.CostPerItem.describe().astype(int)"
   ]
  },
  {
   "cell_type": "markdown",
   "metadata": {},
   "source": [
    "### Top 10 revenue bringing customers"
   ]
  },
  {
   "cell_type": "code",
   "execution_count": 38,
   "metadata": {},
   "outputs": [
    {
     "data": {
      "text/html": [
       "<div>\n",
       "<style scoped>\n",
       "    .dataframe tbody tr th:only-of-type {\n",
       "        vertical-align: middle;\n",
       "    }\n",
       "\n",
       "    .dataframe tbody tr th {\n",
       "        vertical-align: top;\n",
       "    }\n",
       "\n",
       "    .dataframe thead th {\n",
       "        text-align: right;\n",
       "    }\n",
       "</style>\n",
       "<table border=\"1\" class=\"dataframe\">\n",
       "  <thead>\n",
       "    <tr style=\"text-align: right;\">\n",
       "      <th></th>\n",
       "      <th>sum</th>\n",
       "    </tr>\n",
       "    <tr>\n",
       "      <th>UserId</th>\n",
       "      <th></th>\n",
       "    </tr>\n",
       "  </thead>\n",
       "  <tbody>\n",
       "    <tr>\n",
       "      <td>307566</td>\n",
       "      <td>1163215.47</td>\n",
       "    </tr>\n",
       "    <tr>\n",
       "      <td>380142</td>\n",
       "      <td>1076194.08</td>\n",
       "    </tr>\n",
       "    <tr>\n",
       "      <td>366450</td>\n",
       "      <td>805910.52</td>\n",
       "    </tr>\n",
       "    <tr>\n",
       "      <td>313131</td>\n",
       "      <td>596207.58</td>\n",
       "    </tr>\n",
       "    <tr>\n",
       "      <td>260715</td>\n",
       "      <td>518341.62</td>\n",
       "    </tr>\n",
       "    <tr>\n",
       "      <td>297276</td>\n",
       "      <td>486129.30</td>\n",
       "    </tr>\n",
       "    <tr>\n",
       "      <td>367731</td>\n",
       "      <td>378063.21</td>\n",
       "    </tr>\n",
       "    <tr>\n",
       "      <td>336609</td>\n",
       "      <td>335418.66</td>\n",
       "    </tr>\n",
       "    <tr>\n",
       "      <td>350364</td>\n",
       "      <td>276619.29</td>\n",
       "    </tr>\n",
       "    <tr>\n",
       "      <td>287574</td>\n",
       "      <td>270246.84</td>\n",
       "    </tr>\n",
       "  </tbody>\n",
       "</table>\n",
       "</div>"
      ],
      "text/plain": [
       "               sum\n",
       "UserId            \n",
       "307566  1163215.47\n",
       "380142  1076194.08\n",
       "366450   805910.52\n",
       "313131   596207.58\n",
       "260715   518341.62\n",
       "297276   486129.30\n",
       "367731   378063.21\n",
       "336609   335418.66\n",
       "350364   276619.29\n",
       "287574   270246.84"
      ]
     },
     "execution_count": 38,
     "metadata": {},
     "output_type": "execute_result"
    }
   ],
   "source": [
    "df_n = df[df.UserId > 0]\n",
    "userId_revenue = df_n.groupby('UserId')['Amount'].agg(['sum']).sort_values(by = ['sum'], ascending = False)\n",
    "userId_revenue[:10]\n"
   ]
  },
  {
   "cell_type": "markdown",
   "metadata": {},
   "source": [
    "### Top 20 Most preferred Items"
   ]
  },
  {
   "cell_type": "code",
   "execution_count": 39,
   "metadata": {},
   "outputs": [
    {
     "data": {
      "text/html": [
       "<div>\n",
       "<style scoped>\n",
       "    .dataframe tbody tr th:only-of-type {\n",
       "        vertical-align: middle;\n",
       "    }\n",
       "\n",
       "    .dataframe tbody tr th {\n",
       "        vertical-align: top;\n",
       "    }\n",
       "\n",
       "    .dataframe thead th {\n",
       "        text-align: right;\n",
       "    }\n",
       "</style>\n",
       "<table border=\"1\" class=\"dataframe\">\n",
       "  <thead>\n",
       "    <tr style=\"text-align: right;\">\n",
       "      <th></th>\n",
       "      <th>NumberOfItemsPurchased</th>\n",
       "    </tr>\n",
       "    <tr>\n",
       "      <th>ItemCode</th>\n",
       "      <th></th>\n",
       "    </tr>\n",
       "  </thead>\n",
       "  <tbody>\n",
       "    <tr>\n",
       "      <td>1787079</td>\n",
       "      <td>238986</td>\n",
       "    </tr>\n",
       "    <tr>\n",
       "      <td>466137</td>\n",
       "      <td>157794</td>\n",
       "    </tr>\n",
       "    <tr>\n",
       "      <td>1765617</td>\n",
       "      <td>141813</td>\n",
       "    </tr>\n",
       "    <tr>\n",
       "      <td>1787583</td>\n",
       "      <td>113811</td>\n",
       "    </tr>\n",
       "    <tr>\n",
       "      <td>445452</td>\n",
       "      <td>109188</td>\n",
       "    </tr>\n",
       "    <tr>\n",
       "      <td>1782459</td>\n",
       "      <td>100446</td>\n",
       "    </tr>\n",
       "    <tr>\n",
       "      <td>484764</td>\n",
       "      <td>95019</td>\n",
       "    </tr>\n",
       "    <tr>\n",
       "      <td>472332</td>\n",
       "      <td>79899</td>\n",
       "    </tr>\n",
       "    <tr>\n",
       "      <td>474936</td>\n",
       "      <td>78969</td>\n",
       "    </tr>\n",
       "    <tr>\n",
       "      <td>465738</td>\n",
       "      <td>72825</td>\n",
       "    </tr>\n",
       "    <tr>\n",
       "      <td>315756</td>\n",
       "      <td>71478</td>\n",
       "    </tr>\n",
       "    <tr>\n",
       "      <td>357063</td>\n",
       "      <td>69060</td>\n",
       "    </tr>\n",
       "    <tr>\n",
       "      <td>998886</td>\n",
       "      <td>66495</td>\n",
       "    </tr>\n",
       "    <tr>\n",
       "      <td>461517</td>\n",
       "      <td>66360</td>\n",
       "    </tr>\n",
       "    <tr>\n",
       "      <td>460215</td>\n",
       "      <td>66309</td>\n",
       "    </tr>\n",
       "    <tr>\n",
       "      <td>470106</td>\n",
       "      <td>64344</td>\n",
       "    </tr>\n",
       "    <tr>\n",
       "      <td>487263</td>\n",
       "      <td>61755</td>\n",
       "    </tr>\n",
       "    <tr>\n",
       "      <td>435225</td>\n",
       "      <td>58296</td>\n",
       "    </tr>\n",
       "    <tr>\n",
       "      <td>463806</td>\n",
       "      <td>57987</td>\n",
       "    </tr>\n",
       "    <tr>\n",
       "      <td>1783866</td>\n",
       "      <td>57627</td>\n",
       "    </tr>\n",
       "  </tbody>\n",
       "</table>\n",
       "</div>"
      ],
      "text/plain": [
       "          NumberOfItemsPurchased\n",
       "ItemCode                        \n",
       "1787079                   238986\n",
       "466137                    157794\n",
       "1765617                   141813\n",
       "1787583                   113811\n",
       "445452                    109188\n",
       "1782459                   100446\n",
       "484764                     95019\n",
       "472332                     79899\n",
       "474936                     78969\n",
       "465738                     72825\n",
       "315756                     71478\n",
       "357063                     69060\n",
       "998886                     66495\n",
       "461517                     66360\n",
       "460215                     66309\n",
       "470106                     64344\n",
       "487263                     61755\n",
       "435225                     58296\n",
       "463806                     57987\n",
       "1783866                    57627"
      ]
     },
     "execution_count": 39,
     "metadata": {},
     "output_type": "execute_result"
    }
   ],
   "source": [
    "most_preferred_items = df.groupby(['ItemCode'])[['NumberOfItemsPurchased']].sum().sort_values(by=['NumberOfItemsPurchased'],ascending=False)\n",
    "most_preferred_items[:20]"
   ]
  },
  {
   "cell_type": "markdown",
   "metadata": {},
   "source": [
    "### 20 least preferred items"
   ]
  },
  {
   "cell_type": "code",
   "execution_count": 40,
   "metadata": {},
   "outputs": [
    {
     "data": {
      "text/html": [
       "<div>\n",
       "<style scoped>\n",
       "    .dataframe tbody tr th:only-of-type {\n",
       "        vertical-align: middle;\n",
       "    }\n",
       "\n",
       "    .dataframe tbody tr th {\n",
       "        vertical-align: top;\n",
       "    }\n",
       "\n",
       "    .dataframe thead th {\n",
       "        text-align: right;\n",
       "    }\n",
       "</style>\n",
       "<table border=\"1\" class=\"dataframe\">\n",
       "  <thead>\n",
       "    <tr style=\"text-align: right;\">\n",
       "      <th></th>\n",
       "      <th></th>\n",
       "      <th>NumberOfItemsPurchased</th>\n",
       "    </tr>\n",
       "    <tr>\n",
       "      <th>ItemCode</th>\n",
       "      <th>ItemDescription</th>\n",
       "      <th></th>\n",
       "    </tr>\n",
       "  </thead>\n",
       "  <tbody>\n",
       "    <tr>\n",
       "      <td>447510</td>\n",
       "      <td>CAPIZ CHANDELIER</td>\n",
       "      <td>3</td>\n",
       "    </tr>\n",
       "    <tr>\n",
       "      <td>1892100</td>\n",
       "      <td>NECKLACE+BRACELET SET PINK DAISY</td>\n",
       "      <td>3</td>\n",
       "    </tr>\n",
       "    <tr>\n",
       "      <td>999159</td>\n",
       "      <td>TEA TIME BREAKFAST BASKET</td>\n",
       "      <td>3</td>\n",
       "    </tr>\n",
       "    <tr>\n",
       "      <td>1890420</td>\n",
       "      <td>FILIGREE DIAMANTE CHAIN</td>\n",
       "      <td>3</td>\n",
       "    </tr>\n",
       "    <tr>\n",
       "      <td>786954</td>\n",
       "      <td>SET/4 2 TONE EGG SHAPE MIXING BOWLS</td>\n",
       "      <td>3</td>\n",
       "    </tr>\n",
       "    <tr>\n",
       "      <td>786681</td>\n",
       "      <td>FUNKY MONKEY MUG</td>\n",
       "      <td>3</td>\n",
       "    </tr>\n",
       "    <tr>\n",
       "      <td>1890441</td>\n",
       "      <td>LASER CUT MULTI STRAND NECKLACE</td>\n",
       "      <td>3</td>\n",
       "    </tr>\n",
       "    <tr>\n",
       "      <td>748650</td>\n",
       "      <td>VINTAGE BEAD PINK JEWEL STAND</td>\n",
       "      <td>3</td>\n",
       "    </tr>\n",
       "    <tr>\n",
       "      <td>747789</td>\n",
       "      <td>PINK FEATHER CHRISTMAS DECORATION</td>\n",
       "      <td>3</td>\n",
       "    </tr>\n",
       "    <tr>\n",
       "      <td>1893738</td>\n",
       "      <td>PURPLE CHUNKY GLASS+BEAD NECKLACE</td>\n",
       "      <td>3</td>\n",
       "    </tr>\n",
       "    <tr>\n",
       "      <td>747600</td>\n",
       "      <td>Found by jackie</td>\n",
       "      <td>3</td>\n",
       "    </tr>\n",
       "    <tr>\n",
       "      <td rowspan=\"2\" valign=\"top\">747537</td>\n",
       "      <td>DUSTY PINK CHRISTMAS TREE 30CM</td>\n",
       "      <td>3</td>\n",
       "    </tr>\n",
       "    <tr>\n",
       "      <td>BLACKCHRISTMAS TREE 30CM</td>\n",
       "      <td>3</td>\n",
       "    </tr>\n",
       "    <tr>\n",
       "      <td>735084</td>\n",
       "      <td>SET OF 3 PINK FLYING DUCKS</td>\n",
       "      <td>3</td>\n",
       "    </tr>\n",
       "    <tr>\n",
       "      <td>496944</td>\n",
       "      <td>FLOWER SHOP DESIGN MUG</td>\n",
       "      <td>3</td>\n",
       "    </tr>\n",
       "    <tr>\n",
       "      <td>1893801</td>\n",
       "      <td>BLACK GLASS/SHELL/PEARL NECKLACE</td>\n",
       "      <td>3</td>\n",
       "    </tr>\n",
       "    <tr>\n",
       "      <td>1890525</td>\n",
       "      <td>BAROQUE BUTTERFLY EARRINGS MONTANA</td>\n",
       "      <td>3</td>\n",
       "    </tr>\n",
       "    <tr>\n",
       "      <td>1892982</td>\n",
       "      <td>GREEN PENDANT SHELL NECKLACE</td>\n",
       "      <td>3</td>\n",
       "    </tr>\n",
       "    <tr>\n",
       "      <td>496503</td>\n",
       "      <td>SET 10 CARDS CHRISTMAS BAUBLE 16954</td>\n",
       "      <td>3</td>\n",
       "    </tr>\n",
       "    <tr>\n",
       "      <td>1890525</td>\n",
       "      <td>BAROQUE BUTTERFLY EARRINGS RED</td>\n",
       "      <td>3</td>\n",
       "    </tr>\n",
       "  </tbody>\n",
       "</table>\n",
       "</div>"
      ],
      "text/plain": [
       "                                              NumberOfItemsPurchased\n",
       "ItemCode ItemDescription                                            \n",
       "447510   CAPIZ CHANDELIER                                          3\n",
       "1892100  NECKLACE+BRACELET SET PINK DAISY                          3\n",
       "999159   TEA TIME BREAKFAST BASKET                                 3\n",
       "1890420  FILIGREE DIAMANTE CHAIN                                   3\n",
       "786954   SET/4 2 TONE EGG SHAPE MIXING BOWLS                       3\n",
       "786681   FUNKY MONKEY MUG                                          3\n",
       "1890441  LASER CUT MULTI STRAND NECKLACE                           3\n",
       "748650   VINTAGE BEAD PINK JEWEL STAND                             3\n",
       "747789   PINK FEATHER CHRISTMAS DECORATION                         3\n",
       "1893738  PURPLE CHUNKY GLASS+BEAD NECKLACE                         3\n",
       "747600   Found by jackie                                           3\n",
       "747537   DUSTY PINK CHRISTMAS TREE 30CM                            3\n",
       "         BLACKCHRISTMAS TREE 30CM                                  3\n",
       "735084   SET OF 3 PINK FLYING DUCKS                                3\n",
       "496944   FLOWER SHOP DESIGN MUG                                    3\n",
       "1893801  BLACK GLASS/SHELL/PEARL NECKLACE                          3\n",
       "1890525  BAROQUE BUTTERFLY EARRINGS MONTANA                        3\n",
       "1892982  GREEN PENDANT SHELL NECKLACE                              3\n",
       "496503   SET 10 CARDS CHRISTMAS BAUBLE 16954                       3\n",
       "1890525  BAROQUE BUTTERFLY EARRINGS RED                            3"
      ]
     },
     "execution_count": 40,
     "metadata": {},
     "output_type": "execute_result"
    }
   ],
   "source": [
    "least_preferred_items = df.groupby(['ItemCode', 'ItemDescription'])[['NumberOfItemsPurchased']].sum().sort_values(by=['NumberOfItemsPurchased'],ascending=True)\n",
    "least_preferred_items[:20]"
   ]
  },
  {
   "cell_type": "code",
   "execution_count": 41,
   "metadata": {},
   "outputs": [
    {
     "data": {
      "text/html": [
       "<div>\n",
       "<style scoped>\n",
       "    .dataframe tbody tr th:only-of-type {\n",
       "        vertical-align: middle;\n",
       "    }\n",
       "\n",
       "    .dataframe tbody tr th {\n",
       "        vertical-align: top;\n",
       "    }\n",
       "\n",
       "    .dataframe thead th {\n",
       "        text-align: right;\n",
       "    }\n",
       "</style>\n",
       "<table border=\"1\" class=\"dataframe\">\n",
       "  <thead>\n",
       "    <tr style=\"text-align: right;\">\n",
       "      <th></th>\n",
       "      <th>UserId</th>\n",
       "      <th>TransactionId</th>\n",
       "      <th>TransactionTime</th>\n",
       "      <th>ItemCode</th>\n",
       "      <th>Month</th>\n",
       "      <th>Day</th>\n",
       "      <th>Hour</th>\n",
       "      <th>Week</th>\n",
       "      <th>ItemDescription</th>\n",
       "      <th>NumberOfItemsPurchased</th>\n",
       "      <th>CostPerItem</th>\n",
       "      <th>Country</th>\n",
       "      <th>Amount</th>\n",
       "    </tr>\n",
       "  </thead>\n",
       "  <tbody>\n",
       "    <tr>\n",
       "      <td>0</td>\n",
       "      <td>278166</td>\n",
       "      <td>6355745</td>\n",
       "      <td>2019-02-02 12:50:00+05:30</td>\n",
       "      <td>465549</td>\n",
       "      <td>2</td>\n",
       "      <td>6</td>\n",
       "      <td>12</td>\n",
       "      <td>1</td>\n",
       "      <td>FAMILY ALBUM WHITE PICTURE FRAME</td>\n",
       "      <td>6</td>\n",
       "      <td>11.73</td>\n",
       "      <td>United Kingdom</td>\n",
       "      <td>70.38</td>\n",
       "    </tr>\n",
       "    <tr>\n",
       "      <td>1</td>\n",
       "      <td>337701</td>\n",
       "      <td>6283376</td>\n",
       "      <td>2018-12-26 09:06:00+05:30</td>\n",
       "      <td>482370</td>\n",
       "      <td>12</td>\n",
       "      <td>3</td>\n",
       "      <td>9</td>\n",
       "      <td>4</td>\n",
       "      <td>LONDON BUS COFFEE MUG</td>\n",
       "      <td>3</td>\n",
       "      <td>3.52</td>\n",
       "      <td>United Kingdom</td>\n",
       "      <td>10.56</td>\n",
       "    </tr>\n",
       "    <tr>\n",
       "      <td>2</td>\n",
       "      <td>267099</td>\n",
       "      <td>6385599</td>\n",
       "      <td>2019-02-15 09:45:00+05:30</td>\n",
       "      <td>490728</td>\n",
       "      <td>2</td>\n",
       "      <td>5</td>\n",
       "      <td>9</td>\n",
       "      <td>3</td>\n",
       "      <td>SET 12 COLOUR PENCILS DOLLY GIRL</td>\n",
       "      <td>72</td>\n",
       "      <td>0.90</td>\n",
       "      <td>France</td>\n",
       "      <td>64.80</td>\n",
       "    </tr>\n",
       "    <tr>\n",
       "      <td>3</td>\n",
       "      <td>380478</td>\n",
       "      <td>6044973</td>\n",
       "      <td>2018-06-22 07:14:00+05:30</td>\n",
       "      <td>459186</td>\n",
       "      <td>6</td>\n",
       "      <td>5</td>\n",
       "      <td>7</td>\n",
       "      <td>4</td>\n",
       "      <td>UNION JACK FLAG LUGGAGE TAG</td>\n",
       "      <td>3</td>\n",
       "      <td>1.73</td>\n",
       "      <td>United Kingdom</td>\n",
       "      <td>5.19</td>\n",
       "    </tr>\n",
       "    <tr>\n",
       "      <td>4</td>\n",
       "      <td>-1</td>\n",
       "      <td>6143225</td>\n",
       "      <td>2018-09-10 11:58:00+05:30</td>\n",
       "      <td>1733592</td>\n",
       "      <td>9</td>\n",
       "      <td>1</td>\n",
       "      <td>11</td>\n",
       "      <td>2</td>\n",
       "      <td>WASHROOM METAL SIGN</td>\n",
       "      <td>3</td>\n",
       "      <td>3.40</td>\n",
       "      <td>United Kingdom</td>\n",
       "      <td>10.20</td>\n",
       "    </tr>\n",
       "  </tbody>\n",
       "</table>\n",
       "</div>"
      ],
      "text/plain": [
       "   UserId  TransactionId           TransactionTime  ItemCode  Month  Day  \\\n",
       "0  278166        6355745 2019-02-02 12:50:00+05:30    465549      2    6   \n",
       "1  337701        6283376 2018-12-26 09:06:00+05:30    482370     12    3   \n",
       "2  267099        6385599 2019-02-15 09:45:00+05:30    490728      2    5   \n",
       "3  380478        6044973 2018-06-22 07:14:00+05:30    459186      6    5   \n",
       "4      -1        6143225 2018-09-10 11:58:00+05:30   1733592      9    1   \n",
       "\n",
       "   Hour  Week                    ItemDescription  NumberOfItemsPurchased  \\\n",
       "0    12     1   FAMILY ALBUM WHITE PICTURE FRAME                       6   \n",
       "1     9     4              LONDON BUS COFFEE MUG                       3   \n",
       "2     9     3  SET 12 COLOUR PENCILS DOLLY GIRL                       72   \n",
       "3     7     4        UNION JACK FLAG LUGGAGE TAG                       3   \n",
       "4    11     2                WASHROOM METAL SIGN                       3   \n",
       "\n",
       "   CostPerItem         Country  Amount  \n",
       "0        11.73  United Kingdom   70.38  \n",
       "1         3.52  United Kingdom   10.56  \n",
       "2         0.90          France   64.80  \n",
       "3         1.73  United Kingdom    5.19  \n",
       "4         3.40  United Kingdom   10.20  "
      ]
     },
     "execution_count": 41,
     "metadata": {},
     "output_type": "execute_result"
    }
   ],
   "source": [
    "df.head()"
   ]
  },
  {
   "cell_type": "code",
   "execution_count": 70,
   "metadata": {},
   "outputs": [
    {
     "data": {
      "text/plain": [
       "(20714, 3307)"
      ]
     },
     "execution_count": 70,
     "metadata": {},
     "output_type": "execute_result"
    }
   ],
   "source": [
    "basket = df.groupby(['TransactionId','ItemCode'])['NumberOfItemsPurchased'].sum().unstack()\n",
    "basket.shape"
   ]
  },
  {
   "cell_type": "code",
   "execution_count": 71,
   "metadata": {},
   "outputs": [],
   "source": [
    "basket = basket.applymap(lambda x: 1 if x>0 else 0)\n"
   ]
  },
  {
   "cell_type": "code",
   "execution_count": 72,
   "metadata": {},
   "outputs": [
    {
     "data": {
      "text/html": [
       "<div>\n",
       "<style scoped>\n",
       "    .dataframe tbody tr th:only-of-type {\n",
       "        vertical-align: middle;\n",
       "    }\n",
       "\n",
       "    .dataframe tbody tr th {\n",
       "        vertical-align: top;\n",
       "    }\n",
       "\n",
       "    .dataframe thead th {\n",
       "        text-align: right;\n",
       "    }\n",
       "</style>\n",
       "<table border=\"1\" class=\"dataframe\">\n",
       "  <thead>\n",
       "    <tr style=\"text-align: right;\">\n",
       "      <th>ItemCode</th>\n",
       "      <th>-1</th>\n",
       "      <th>42</th>\n",
       "      <th>63</th>\n",
       "      <th>84</th>\n",
       "      <th>1449</th>\n",
       "      <th>1470</th>\n",
       "      <th>1596</th>\n",
       "      <th>2310</th>\n",
       "      <th>2520</th>\n",
       "      <th>2730</th>\n",
       "      <th>...</th>\n",
       "      <th>1894242</th>\n",
       "      <th>1894284</th>\n",
       "      <th>1894305</th>\n",
       "      <th>1894326</th>\n",
       "      <th>1894368</th>\n",
       "      <th>1894389</th>\n",
       "      <th>1894410</th>\n",
       "      <th>1894431</th>\n",
       "      <th>1894452</th>\n",
       "      <th>1894494</th>\n",
       "    </tr>\n",
       "    <tr>\n",
       "      <th>TransactionId</th>\n",
       "      <th></th>\n",
       "      <th></th>\n",
       "      <th></th>\n",
       "      <th></th>\n",
       "      <th></th>\n",
       "      <th></th>\n",
       "      <th></th>\n",
       "      <th></th>\n",
       "      <th></th>\n",
       "      <th></th>\n",
       "      <th></th>\n",
       "      <th></th>\n",
       "      <th></th>\n",
       "      <th></th>\n",
       "      <th></th>\n",
       "      <th></th>\n",
       "      <th></th>\n",
       "      <th></th>\n",
       "      <th></th>\n",
       "      <th></th>\n",
       "      <th></th>\n",
       "    </tr>\n",
       "  </thead>\n",
       "  <tbody>\n",
       "    <tr>\n",
       "      <td>5900015</td>\n",
       "      <td>0</td>\n",
       "      <td>0</td>\n",
       "      <td>0</td>\n",
       "      <td>0</td>\n",
       "      <td>0</td>\n",
       "      <td>0</td>\n",
       "      <td>0</td>\n",
       "      <td>0</td>\n",
       "      <td>0</td>\n",
       "      <td>0</td>\n",
       "      <td>...</td>\n",
       "      <td>0</td>\n",
       "      <td>0</td>\n",
       "      <td>0</td>\n",
       "      <td>0</td>\n",
       "      <td>0</td>\n",
       "      <td>0</td>\n",
       "      <td>0</td>\n",
       "      <td>0</td>\n",
       "      <td>0</td>\n",
       "      <td>0</td>\n",
       "    </tr>\n",
       "    <tr>\n",
       "      <td>5900026</td>\n",
       "      <td>0</td>\n",
       "      <td>0</td>\n",
       "      <td>0</td>\n",
       "      <td>0</td>\n",
       "      <td>0</td>\n",
       "      <td>0</td>\n",
       "      <td>0</td>\n",
       "      <td>0</td>\n",
       "      <td>0</td>\n",
       "      <td>0</td>\n",
       "      <td>...</td>\n",
       "      <td>0</td>\n",
       "      <td>0</td>\n",
       "      <td>0</td>\n",
       "      <td>0</td>\n",
       "      <td>0</td>\n",
       "      <td>0</td>\n",
       "      <td>0</td>\n",
       "      <td>0</td>\n",
       "      <td>0</td>\n",
       "      <td>0</td>\n",
       "    </tr>\n",
       "    <tr>\n",
       "      <td>5900037</td>\n",
       "      <td>0</td>\n",
       "      <td>0</td>\n",
       "      <td>0</td>\n",
       "      <td>0</td>\n",
       "      <td>0</td>\n",
       "      <td>0</td>\n",
       "      <td>0</td>\n",
       "      <td>0</td>\n",
       "      <td>0</td>\n",
       "      <td>0</td>\n",
       "      <td>...</td>\n",
       "      <td>0</td>\n",
       "      <td>0</td>\n",
       "      <td>0</td>\n",
       "      <td>0</td>\n",
       "      <td>0</td>\n",
       "      <td>0</td>\n",
       "      <td>0</td>\n",
       "      <td>0</td>\n",
       "      <td>0</td>\n",
       "      <td>0</td>\n",
       "    </tr>\n",
       "    <tr>\n",
       "      <td>5900048</td>\n",
       "      <td>0</td>\n",
       "      <td>0</td>\n",
       "      <td>0</td>\n",
       "      <td>0</td>\n",
       "      <td>0</td>\n",
       "      <td>0</td>\n",
       "      <td>0</td>\n",
       "      <td>0</td>\n",
       "      <td>0</td>\n",
       "      <td>0</td>\n",
       "      <td>...</td>\n",
       "      <td>0</td>\n",
       "      <td>0</td>\n",
       "      <td>0</td>\n",
       "      <td>0</td>\n",
       "      <td>0</td>\n",
       "      <td>0</td>\n",
       "      <td>0</td>\n",
       "      <td>0</td>\n",
       "      <td>0</td>\n",
       "      <td>0</td>\n",
       "    </tr>\n",
       "    <tr>\n",
       "      <td>5900059</td>\n",
       "      <td>0</td>\n",
       "      <td>0</td>\n",
       "      <td>0</td>\n",
       "      <td>0</td>\n",
       "      <td>0</td>\n",
       "      <td>0</td>\n",
       "      <td>0</td>\n",
       "      <td>0</td>\n",
       "      <td>0</td>\n",
       "      <td>0</td>\n",
       "      <td>...</td>\n",
       "      <td>0</td>\n",
       "      <td>0</td>\n",
       "      <td>0</td>\n",
       "      <td>0</td>\n",
       "      <td>0</td>\n",
       "      <td>0</td>\n",
       "      <td>0</td>\n",
       "      <td>0</td>\n",
       "      <td>0</td>\n",
       "      <td>0</td>\n",
       "    </tr>\n",
       "  </tbody>\n",
       "</table>\n",
       "<p>5 rows × 3307 columns</p>\n",
       "</div>"
      ],
      "text/plain": [
       "ItemCode       -1         42        63        84        1449      1470     \\\n",
       "TransactionId                                                               \n",
       "5900015               0         0         0         0         0         0   \n",
       "5900026               0         0         0         0         0         0   \n",
       "5900037               0         0         0         0         0         0   \n",
       "5900048               0         0         0         0         0         0   \n",
       "5900059               0         0         0         0         0         0   \n",
       "\n",
       "ItemCode        1596      2310      2520      2730     ...   1894242  \\\n",
       "TransactionId                                          ...             \n",
       "5900015               0         0         0         0  ...         0   \n",
       "5900026               0         0         0         0  ...         0   \n",
       "5900037               0         0         0         0  ...         0   \n",
       "5900048               0         0         0         0  ...         0   \n",
       "5900059               0         0         0         0  ...         0   \n",
       "\n",
       "ItemCode        1894284   1894305   1894326   1894368   1894389   1894410  \\\n",
       "TransactionId                                                               \n",
       "5900015               0         0         0         0         0         0   \n",
       "5900026               0         0         0         0         0         0   \n",
       "5900037               0         0         0         0         0         0   \n",
       "5900048               0         0         0         0         0         0   \n",
       "5900059               0         0         0         0         0         0   \n",
       "\n",
       "ItemCode        1894431   1894452   1894494  \n",
       "TransactionId                                \n",
       "5900015               0         0         0  \n",
       "5900026               0         0         0  \n",
       "5900037               0         0         0  \n",
       "5900048               0         0         0  \n",
       "5900059               0         0         0  \n",
       "\n",
       "[5 rows x 3307 columns]"
      ]
     },
     "execution_count": 72,
     "metadata": {},
     "output_type": "execute_result"
    }
   ],
   "source": [
    "basket.head()"
   ]
  },
  {
   "cell_type": "code",
   "execution_count": 73,
   "metadata": {},
   "outputs": [
    {
     "name": "stdout",
     "output_type": "stream",
     "text": [
      "CPU times: user 10.2 s, sys: 15.1 s, total: 25.3 s\n",
      "Wall time: 26.8 s\n"
     ]
    }
   ],
   "source": [
    "%%time\n",
    "itemsets = apriori(basket, min_support=0.02, use_colnames=True)"
   ]
  },
  {
   "cell_type": "code",
   "execution_count": 74,
   "metadata": {},
   "outputs": [
    {
     "data": {
      "text/plain": [
       "(367, 2)"
      ]
     },
     "execution_count": 74,
     "metadata": {},
     "output_type": "execute_result"
    }
   ],
   "source": [
    "itemsets.shape"
   ]
  },
  {
   "cell_type": "code",
   "execution_count": 75,
   "metadata": {},
   "outputs": [
    {
     "data": {
      "text/html": [
       "<div>\n",
       "<style scoped>\n",
       "    .dataframe tbody tr th:only-of-type {\n",
       "        vertical-align: middle;\n",
       "    }\n",
       "\n",
       "    .dataframe tbody tr th {\n",
       "        vertical-align: top;\n",
       "    }\n",
       "\n",
       "    .dataframe thead th {\n",
       "        text-align: right;\n",
       "    }\n",
       "</style>\n",
       "<table border=\"1\" class=\"dataframe\">\n",
       "  <thead>\n",
       "    <tr style=\"text-align: right;\">\n",
       "      <th></th>\n",
       "      <th>support</th>\n",
       "      <th>itemsets</th>\n",
       "    </tr>\n",
       "  </thead>\n",
       "  <tbody>\n",
       "    <tr>\n",
       "      <td>271</td>\n",
       "      <td>0.128367</td>\n",
       "      <td>(1787079)</td>\n",
       "    </tr>\n",
       "    <tr>\n",
       "      <td>272</td>\n",
       "      <td>0.109539</td>\n",
       "      <td>(1787583)</td>\n",
       "    </tr>\n",
       "    <tr>\n",
       "      <td>0</td>\n",
       "      <td>0.103746</td>\n",
       "      <td>(-1)</td>\n",
       "    </tr>\n",
       "    <tr>\n",
       "      <td>113</td>\n",
       "      <td>0.096022</td>\n",
       "      <td>(470883)</td>\n",
       "    </tr>\n",
       "    <tr>\n",
       "      <td>231</td>\n",
       "      <td>0.094139</td>\n",
       "      <td>(998886)</td>\n",
       "    </tr>\n",
       "  </tbody>\n",
       "</table>\n",
       "</div>"
      ],
      "text/plain": [
       "      support   itemsets\n",
       "271  0.128367  (1787079)\n",
       "272  0.109539  (1787583)\n",
       "0    0.103746       (-1)\n",
       "113  0.096022   (470883)\n",
       "231  0.094139   (998886)"
      ]
     },
     "execution_count": 75,
     "metadata": {},
     "output_type": "execute_result"
    }
   ],
   "source": [
    "itemsets.sort_values('support',ascending=False).head()"
   ]
  },
  {
   "cell_type": "code",
   "execution_count": 76,
   "metadata": {},
   "outputs": [],
   "source": [
    "rules = association_rules(itemsets, metric=\"lift\", min_threshold=2)\n"
   ]
  },
  {
   "cell_type": "code",
   "execution_count": 77,
   "metadata": {},
   "outputs": [
    {
     "data": {
      "text/plain": [
       "(198, 9)"
      ]
     },
     "execution_count": 77,
     "metadata": {},
     "output_type": "execute_result"
    }
   ],
   "source": [
    "rules.shape\n"
   ]
  },
  {
   "cell_type": "code",
   "execution_count": 78,
   "metadata": {},
   "outputs": [
    {
     "data": {
      "image/png": "[encoded data removed]",
      "text/plain": [
       "<Figure size 432x288 with 1 Axes>"
      ]
     },
     "metadata": {
      "needs_background": "light"
     },
     "output_type": "display_data"
    }
   ],
   "source": [
    "sns.scatterplot(x='support', y='confidence', hue='lift', data=rules)\n",
    "plt.show()"
   ]
  },
  {
   "cell_type": "code",
   "execution_count": 79,
   "metadata": {},
   "outputs": [
    {
     "data": {
      "image/png": "[encoded data removed]",
      "text/plain": [
       "<Figure size 432x288 with 1 Axes>"
      ]
     },
     "metadata": {
      "needs_background": "light"
     },
     "output_type": "display_data"
    }
   ],
   "source": [
    "sns.scatterplot(x='support', y='confidence', hue='leverage', data=rules)\n",
    "plt.show()"
   ]
  },
  {
   "cell_type": "code",
   "execution_count": 120,
   "metadata": {},
   "outputs": [],
   "source": [
    "result = rules.sort_values('lift', ascending=False)\n",
    "cols = ['antecedents','consequents']\n",
    "result[cols] = result[cols].applymap(lambda x: tuple(x))"
   ]
  },
  {
   "cell_type": "code",
   "execution_count": 125,
   "metadata": {},
   "outputs": [
    {
     "name": "stdout",
     "output_type": "stream",
     "text": [
      "\u001b[1mThis file has the ItemIds of the products bought together\u001b[0m\n"
     ]
    }
   ],
   "source": [
    "result.to_csv(r'result.csv', index = False)\n",
    "\n",
    "print(color.BOLD + 'This result file has the ItemIds of the products bought together' + color.END)\n"
   ]
  },
  {
   "cell_type": "code",
   "execution_count": null,
   "metadata": {},
   "outputs": [],
   "source": []
  }
 ],
 "metadata": {
  "kernelspec": {
   "display_name": "Python 3",
   "language": "python",
   "name": "python3"
  },
  "language_info": {
   "codemirror_mode": {
    "name": "ipython",
    "version": 3
   },
   "file_extension": ".py",
   "mimetype": "text/x-python",
   "name": "python",
   "nbconvert_exporter": "python",
   "pygments_lexer": "ipython3",
   "version": "3.7.4"
  }
 },
 "nbformat": 4,
 "nbformat_minor": 2
}
